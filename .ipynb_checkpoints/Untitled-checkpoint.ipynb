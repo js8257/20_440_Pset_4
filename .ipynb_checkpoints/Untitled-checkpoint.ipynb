{
 "cells": [
  {
   "cell_type": "code",
   "execution_count": null,
   "id": "b430f57f",
   "metadata": {},
   "outputs": [],
   "source": [
    "# script to perform standard workflow steps to analyze single cell RNA-Seq data\n",
    "# data: 20k Mixture of NSCLC DTCs from 7 donors, 3' v3.1\n",
    "# data source: https://www.10xgenomics.com/resources/datasets/10-k-human-pbm-cs-multiome-v-1-0-chromium-controller-1-standard-2-0-0         \n",
    "# script: https://github.com/kpatel427/YouTubeTutorials/blob/main/singleCell_standard_workflow.R\n",
    "# Youtube: https://youtu.be/5HBzgsz8qyk\n",
    "\n",
    "# setwd(\"~/Desktop/demo/single_cell_RNASeq/scripts\")"
   ]
  },
  {
   "cell_type": "code",
   "execution_count": 1,
   "id": "bbe3d602",
   "metadata": {},
   "outputs": [
    {
     "name": "stderr",
     "output_type": "stream",
     "text": [
      "Attaching SeuratObject\n",
      "\n",
      "── \u001b[1mAttaching packages\u001b[22m ─────────────────────────────────────────────────────────────────────────────── tidyverse 1.3.2 ──\n",
      "\u001b[32m✔\u001b[39m \u001b[34mggplot2\u001b[39m 3.4.0      \u001b[32m✔\u001b[39m \u001b[34mpurrr  \u001b[39m 1.0.1 \n",
      "\u001b[32m✔\u001b[39m \u001b[34mtibble \u001b[39m 3.1.8      \u001b[32m✔\u001b[39m \u001b[34mdplyr  \u001b[39m 1.0.10\n",
      "\u001b[32m✔\u001b[39m \u001b[34mtidyr  \u001b[39m 1.3.0      \u001b[32m✔\u001b[39m \u001b[34mstringr\u001b[39m 1.5.0 \n",
      "\u001b[32m✔\u001b[39m \u001b[34mreadr  \u001b[39m 2.1.3      \u001b[32m✔\u001b[39m \u001b[34mforcats\u001b[39m 0.5.2 \n",
      "── \u001b[1mConflicts\u001b[22m ────────────────────────────────────────────────────────────────────────────────── tidyverse_conflicts() ──\n",
      "\u001b[31m✖\u001b[39m \u001b[34mdplyr\u001b[39m::\u001b[32mfilter()\u001b[39m masks \u001b[34mstats\u001b[39m::filter()\n",
      "\u001b[31m✖\u001b[39m \u001b[34mdplyr\u001b[39m::\u001b[32mlag()\u001b[39m    masks \u001b[34mstats\u001b[39m::lag()\n"
     ]
    }
   ],
   "source": [
    "# load libraries\n",
    "library(Seurat)\n",
    "library(tidyverse)"
   ]
  },
  {
   "cell_type": "code",
   "execution_count": 2,
   "id": "0759452c",
   "metadata": {},
   "outputs": [],
   "source": [
    "# Load the dataset\n",
    "mtx_obj <- ReadMtx(mtx = \"data/raw/GSE222510_raw_matrix.mtx.gz\",\n",
    "        features = \"data/raw/GSE222510_raw_genes.tsv.gz\",\n",
    "        cells = \"data/raw/GSE222510_raw_barcodes.tsv.gz\", feature.column = 1)"
   ]
  },
  {
   "cell_type": "code",
   "execution_count": 3,
   "id": "66d676a2",
   "metadata": {},
   "outputs": [],
   "source": [
    "seurat_mtx <- CreateSeuratObject(counts = mtx_obj, min.cells = 3, min.features = 200)"
   ]
  },
  {
   "cell_type": "code",
   "execution_count": 4,
   "id": "d197ecca",
   "metadata": {},
   "outputs": [
    {
     "name": "stdout",
     "output_type": "stream",
     "text": [
      "Formal class 'Seurat' [package \"SeuratObject\"] with 13 slots\n",
      "  ..@ assays      :List of 1\n",
      "  .. ..$ RNA:Formal class 'Assay' [package \"SeuratObject\"] with 8 slots\n",
      "  .. .. .. ..@ counts       :Formal class 'dgCMatrix' [package \"Matrix\"] with 6 slots\n",
      "  .. .. .. .. .. ..@ i       : int [1:148960687] 7 22 53 110 122 273 276 323 344 369 ...\n",
      "  .. .. .. .. .. ..@ p       : int [1:105330] 0 815 3935 5143 7280 7983 10230 12399 13613 16469 ...\n",
      "  .. .. .. .. .. ..@ Dim     : int [1:2] 20864 105329\n",
      "  .. .. .. .. .. ..@ Dimnames:List of 2\n",
      "  .. .. .. .. .. .. ..$ : chr [1:20864] \"Xkr4\" \"Gm37381\" \"Rp1\" \"Sox17\" ...\n",
      "  .. .. .. .. .. .. ..$ : chr [1:105329] \"AAACCTGGTCAGTGGA\" \"AAACCTGGTGTCAATC\" \"AAACCTGTCAAACCAC\" \"AAACCTGTCGTTACAG\" ...\n",
      "  .. .. .. .. .. ..@ x       : num [1:148960687] 1 1 1 1 1 1 1 1 1 1 ...\n",
      "  .. .. .. .. .. ..@ factors : list()\n",
      "  .. .. .. ..@ data         :Formal class 'dgCMatrix' [package \"Matrix\"] with 6 slots\n",
      "  .. .. .. .. .. ..@ i       : int [1:148960687] 7 22 53 110 122 273 276 323 344 369 ...\n",
      "  .. .. .. .. .. ..@ p       : int [1:105330] 0 815 3935 5143 7280 7983 10230 12399 13613 16469 ...\n",
      "  .. .. .. .. .. ..@ Dim     : int [1:2] 20864 105329\n",
      "  .. .. .. .. .. ..@ Dimnames:List of 2\n",
      "  .. .. .. .. .. .. ..$ : chr [1:20864] \"Xkr4\" \"Gm37381\" \"Rp1\" \"Sox17\" ...\n",
      "  .. .. .. .. .. .. ..$ : chr [1:105329] \"AAACCTGGTCAGTGGA\" \"AAACCTGGTGTCAATC\" \"AAACCTGTCAAACCAC\" \"AAACCTGTCGTTACAG\" ...\n",
      "  .. .. .. .. .. ..@ x       : num [1:148960687] 1 1 1 1 1 1 1 1 1 1 ...\n",
      "  .. .. .. .. .. ..@ factors : list()\n",
      "  .. .. .. ..@ scale.data   : num[0 , 0 ] \n",
      "  .. .. .. ..@ key          : chr \"rna_\"\n",
      "  .. .. .. ..@ assay.orig   : NULL\n",
      "  .. .. .. ..@ var.features : logi(0) \n",
      "  .. .. .. ..@ meta.features:'data.frame':\t20864 obs. of  0 variables\n",
      "  .. .. .. ..@ misc         : list()\n",
      "  ..@ meta.data   :'data.frame':\t105329 obs. of  3 variables:\n",
      "  .. ..$ orig.ident  : Factor w/ 1 level \"SeuratProject\": 1 1 1 1 1 1 1 1 1 1 ...\n",
      "  .. ..$ nCount_RNA  : num [1:105329] 1142 6983 1752 4148 1184 ...\n",
      "  .. ..$ nFeature_RNA: int [1:105329] 815 3120 1208 2137 703 2247 2169 1214 2856 885 ...\n",
      "  ..@ active.assay: chr \"RNA\"\n",
      "  ..@ active.ident: Factor w/ 1 level \"SeuratProject\": 1 1 1 1 1 1 1 1 1 1 ...\n",
      "  .. ..- attr(*, \"names\")= chr [1:105329] \"AAACCTGGTCAGTGGA\" \"AAACCTGGTGTCAATC\" \"AAACCTGTCAAACCAC\" \"AAACCTGTCGTTACAG\" ...\n",
      "  ..@ graphs      : list()\n",
      "  ..@ neighbors   : list()\n",
      "  ..@ reductions  : list()\n",
      "  ..@ images      : list()\n",
      "  ..@ project.name: chr \"SeuratProject\"\n",
      "  ..@ misc        : list()\n",
      "  ..@ version     :Classes 'package_version', 'numeric_version'  hidden list of 1\n",
      "  .. ..$ : int [1:3] 4 1 3\n",
      "  ..@ commands    : list()\n",
      "  ..@ tools       : list()\n"
     ]
    }
   ],
   "source": [
    "str(seurat_mtx)"
   ]
  },
  {
   "cell_type": "code",
   "execution_count": 5,
   "id": "19ab7188",
   "metadata": {},
   "outputs": [
    {
     "data": {
      "text/html": [
       "<table class=\"dataframe\">\n",
       "<caption>A data.frame: 105329 × 3</caption>\n",
       "<thead>\n",
       "\t<tr><th></th><th scope=col>orig.ident</th><th scope=col>nCount_RNA</th><th scope=col>nFeature_RNA</th></tr>\n",
       "\t<tr><th></th><th scope=col>&lt;fct&gt;</th><th scope=col>&lt;dbl&gt;</th><th scope=col>&lt;int&gt;</th></tr>\n",
       "</thead>\n",
       "<tbody>\n",
       "\t<tr><th scope=row>AAACCTGGTCAGTGGA</th><td>SeuratProject</td><td>1142</td><td> 815</td></tr>\n",
       "\t<tr><th scope=row>AAACCTGGTGTCAATC</th><td>SeuratProject</td><td>6983</td><td>3120</td></tr>\n",
       "\t<tr><th scope=row>AAACCTGTCAAACCAC</th><td>SeuratProject</td><td>1752</td><td>1208</td></tr>\n",
       "\t<tr><th scope=row>AAACCTGTCGTTACAG</th><td>SeuratProject</td><td>4148</td><td>2137</td></tr>\n",
       "\t<tr><th scope=row>AAACGGGCACGAGAGT</th><td>SeuratProject</td><td>1184</td><td> 703</td></tr>\n",
       "\t<tr><th scope=row>AAAGATGAGCGTAGTG</th><td>SeuratProject</td><td>4618</td><td>2247</td></tr>\n",
       "\t<tr><th scope=row>AAAGCAAGTGTTCGAT</th><td>SeuratProject</td><td>4262</td><td>2169</td></tr>\n",
       "\t<tr><th scope=row>AAAGTAGAGACAGGCT</th><td>SeuratProject</td><td>2509</td><td>1214</td></tr>\n",
       "\t<tr><th scope=row>AAAGTAGAGGAGTACC</th><td>SeuratProject</td><td>7673</td><td>2856</td></tr>\n",
       "\t<tr><th scope=row>AAAGTAGTCATGCTCC</th><td>SeuratProject</td><td>2203</td><td> 885</td></tr>\n",
       "\t<tr><th scope=row>AACACGTTCTCATTCA</th><td>SeuratProject</td><td>1503</td><td> 934</td></tr>\n",
       "\t<tr><th scope=row>AACCATGAGGCCCGTT</th><td>SeuratProject</td><td>1318</td><td> 746</td></tr>\n",
       "\t<tr><th scope=row>AACCATGCAGCTGGCT</th><td>SeuratProject</td><td>3010</td><td>1413</td></tr>\n",
       "\t<tr><th scope=row>AACCATGCATTAGCCA</th><td>SeuratProject</td><td>1016</td><td> 635</td></tr>\n",
       "\t<tr><th scope=row>AACCGCGAGTGGACGT</th><td>SeuratProject</td><td>1497</td><td> 890</td></tr>\n",
       "\t<tr><th scope=row>AACCGCGCAATCTACG</th><td>SeuratProject</td><td>3201</td><td>1488</td></tr>\n",
       "\t<tr><th scope=row>AACCGCGCATGCCTAA</th><td>SeuratProject</td><td>3523</td><td>1536</td></tr>\n",
       "\t<tr><th scope=row>AACCGCGTCGCACTCT</th><td>SeuratProject</td><td>2335</td><td>1404</td></tr>\n",
       "\t<tr><th scope=row>AACGTTGCAAGCCGCT</th><td>SeuratProject</td><td>2426</td><td>1287</td></tr>\n",
       "\t<tr><th scope=row>AACGTTGCATTCCTCG</th><td>SeuratProject</td><td>5184</td><td>2512</td></tr>\n",
       "\t<tr><th scope=row>AACTCAGCAGGATCGA</th><td>SeuratProject</td><td>4288</td><td>1701</td></tr>\n",
       "\t<tr><th scope=row>AACTCAGGTGCCTGGT</th><td>SeuratProject</td><td>2148</td><td>1066</td></tr>\n",
       "\t<tr><th scope=row>AACTCAGGTGTGTGCC</th><td>SeuratProject</td><td>3110</td><td>1488</td></tr>\n",
       "\t<tr><th scope=row>AACTCCCGTGAGGCTA</th><td>SeuratProject</td><td>2656</td><td>1530</td></tr>\n",
       "\t<tr><th scope=row>AACTCTTTCAAAGTAG</th><td>SeuratProject</td><td>4163</td><td>2100</td></tr>\n",
       "\t<tr><th scope=row>AACTCTTTCGATAGAA</th><td>SeuratProject</td><td>4620</td><td>1914</td></tr>\n",
       "\t<tr><th scope=row>AACTCTTTCTTAGCCC</th><td>SeuratProject</td><td>5424</td><td>2587</td></tr>\n",
       "\t<tr><th scope=row>AACTGGTCAAGGCTCC</th><td>SeuratProject</td><td>2237</td><td>1246</td></tr>\n",
       "\t<tr><th scope=row>AACTGGTTCAACGGCC</th><td>SeuratProject</td><td>3277</td><td>1487</td></tr>\n",
       "\t<tr><th scope=row>AACTTTCCACCACGTG</th><td>SeuratProject</td><td>3452</td><td>1968</td></tr>\n",
       "\t<tr><th scope=row>⋮</th><td>⋮</td><td>⋮</td><td>⋮</td></tr>\n",
       "\t<tr><th scope=row>56_TTGGAACTCGATCCCT</th><td>SeuratProject</td><td>1411</td><td> 874</td></tr>\n",
       "\t<tr><th scope=row>56_TTGGAACTCTAACGGT</th><td>SeuratProject</td><td> 729</td><td> 470</td></tr>\n",
       "\t<tr><th scope=row>56_TTGGCAAAGTGAATTG</th><td>SeuratProject</td><td>2129</td><td>1017</td></tr>\n",
       "\t<tr><th scope=row>56_TTGGCAAGTAGGGACT</th><td>SeuratProject</td><td>1677</td><td> 896</td></tr>\n",
       "\t<tr><th scope=row>56_TTGGCAATCGTAGGTT</th><td>SeuratProject</td><td>1852</td><td> 957</td></tr>\n",
       "\t<tr><th scope=row>56_TTGGCAATCGTCCGTT</th><td>SeuratProject</td><td>1234</td><td> 657</td></tr>\n",
       "\t<tr><th scope=row>56_TTGTAGGGTCAATACC</th><td>SeuratProject</td><td>1939</td><td>1225</td></tr>\n",
       "\t<tr><th scope=row>56_TTGTAGGGTTTCCACC</th><td>SeuratProject</td><td>1396</td><td> 857</td></tr>\n",
       "\t<tr><th scope=row>56_TTTACTGAGCAGACTG</th><td>SeuratProject</td><td> 792</td><td> 474</td></tr>\n",
       "\t<tr><th scope=row>56_TTTACTGAGTAGATGT</th><td>SeuratProject</td><td>5597</td><td>2202</td></tr>\n",
       "\t<tr><th scope=row>56_TTTACTGCAAGCCATT</th><td>SeuratProject</td><td> 641</td><td> 460</td></tr>\n",
       "\t<tr><th scope=row>56_TTTATGCAGATGCCTT</th><td>SeuratProject</td><td>1445</td><td> 667</td></tr>\n",
       "\t<tr><th scope=row>56_TTTATGCAGGGCACTA</th><td>SeuratProject</td><td>4060</td><td>2002</td></tr>\n",
       "\t<tr><th scope=row>56_TTTATGCGTGCTCTTC</th><td>SeuratProject</td><td>1832</td><td> 918</td></tr>\n",
       "\t<tr><th scope=row>56_TTTATGCTCACTTCAT</th><td>SeuratProject</td><td>1976</td><td>1236</td></tr>\n",
       "\t<tr><th scope=row>56_TTTATGCTCGATGAGG</th><td>SeuratProject</td><td> 960</td><td> 575</td></tr>\n",
       "\t<tr><th scope=row>56_TTTATGCTCTGCTTGC</th><td>SeuratProject</td><td> 707</td><td> 462</td></tr>\n",
       "\t<tr><th scope=row>56_TTTCCTCAGAACAATC</th><td>SeuratProject</td><td> 651</td><td> 399</td></tr>\n",
       "\t<tr><th scope=row>56_TTTCCTCCAGGGATTG</th><td>SeuratProject</td><td>3255</td><td>1325</td></tr>\n",
       "\t<tr><th scope=row>56_TTTCCTCGTAGTGAAT</th><td>SeuratProject</td><td>1115</td><td> 627</td></tr>\n",
       "\t<tr><th scope=row>56_TTTGCGCAGCACAGGT</th><td>SeuratProject</td><td> 874</td><td> 628</td></tr>\n",
       "\t<tr><th scope=row>56_TTTGCGCCAACCGCCA</th><td>SeuratProject</td><td> 737</td><td> 420</td></tr>\n",
       "\t<tr><th scope=row>56_TTTGCGCGTGTCCTCT</th><td>SeuratProject</td><td>1859</td><td> 971</td></tr>\n",
       "\t<tr><th scope=row>56_TTTGCGCGTTGAACTC</th><td>SeuratProject</td><td>1273</td><td> 710</td></tr>\n",
       "\t<tr><th scope=row>56_TTTGCGCTCTAACTTC</th><td>SeuratProject</td><td>1845</td><td> 977</td></tr>\n",
       "\t<tr><th scope=row>56_TTTGCGCTCTCTAGGA</th><td>SeuratProject</td><td>1251</td><td> 696</td></tr>\n",
       "\t<tr><th scope=row>56_TTTGGTTGTCCAACTA</th><td>SeuratProject</td><td>1304</td><td> 707</td></tr>\n",
       "\t<tr><th scope=row>56_TTTGTCAAGACTCGGA</th><td>SeuratProject</td><td>2074</td><td>1314</td></tr>\n",
       "\t<tr><th scope=row>56_TTTGTCAAGGCCGAAT</th><td>SeuratProject</td><td> 647</td><td> 435</td></tr>\n",
       "\t<tr><th scope=row>56_TTTGTCACATCATCCC</th><td>SeuratProject</td><td>1524</td><td> 930</td></tr>\n",
       "</tbody>\n",
       "</table>\n"
      ],
      "text/latex": [
       "A data.frame: 105329 × 3\n",
       "\\begin{tabular}{r|lll}\n",
       "  & orig.ident & nCount\\_RNA & nFeature\\_RNA\\\\\n",
       "  & <fct> & <dbl> & <int>\\\\\n",
       "\\hline\n",
       "\tAAACCTGGTCAGTGGA & SeuratProject & 1142 &  815\\\\\n",
       "\tAAACCTGGTGTCAATC & SeuratProject & 6983 & 3120\\\\\n",
       "\tAAACCTGTCAAACCAC & SeuratProject & 1752 & 1208\\\\\n",
       "\tAAACCTGTCGTTACAG & SeuratProject & 4148 & 2137\\\\\n",
       "\tAAACGGGCACGAGAGT & SeuratProject & 1184 &  703\\\\\n",
       "\tAAAGATGAGCGTAGTG & SeuratProject & 4618 & 2247\\\\\n",
       "\tAAAGCAAGTGTTCGAT & SeuratProject & 4262 & 2169\\\\\n",
       "\tAAAGTAGAGACAGGCT & SeuratProject & 2509 & 1214\\\\\n",
       "\tAAAGTAGAGGAGTACC & SeuratProject & 7673 & 2856\\\\\n",
       "\tAAAGTAGTCATGCTCC & SeuratProject & 2203 &  885\\\\\n",
       "\tAACACGTTCTCATTCA & SeuratProject & 1503 &  934\\\\\n",
       "\tAACCATGAGGCCCGTT & SeuratProject & 1318 &  746\\\\\n",
       "\tAACCATGCAGCTGGCT & SeuratProject & 3010 & 1413\\\\\n",
       "\tAACCATGCATTAGCCA & SeuratProject & 1016 &  635\\\\\n",
       "\tAACCGCGAGTGGACGT & SeuratProject & 1497 &  890\\\\\n",
       "\tAACCGCGCAATCTACG & SeuratProject & 3201 & 1488\\\\\n",
       "\tAACCGCGCATGCCTAA & SeuratProject & 3523 & 1536\\\\\n",
       "\tAACCGCGTCGCACTCT & SeuratProject & 2335 & 1404\\\\\n",
       "\tAACGTTGCAAGCCGCT & SeuratProject & 2426 & 1287\\\\\n",
       "\tAACGTTGCATTCCTCG & SeuratProject & 5184 & 2512\\\\\n",
       "\tAACTCAGCAGGATCGA & SeuratProject & 4288 & 1701\\\\\n",
       "\tAACTCAGGTGCCTGGT & SeuratProject & 2148 & 1066\\\\\n",
       "\tAACTCAGGTGTGTGCC & SeuratProject & 3110 & 1488\\\\\n",
       "\tAACTCCCGTGAGGCTA & SeuratProject & 2656 & 1530\\\\\n",
       "\tAACTCTTTCAAAGTAG & SeuratProject & 4163 & 2100\\\\\n",
       "\tAACTCTTTCGATAGAA & SeuratProject & 4620 & 1914\\\\\n",
       "\tAACTCTTTCTTAGCCC & SeuratProject & 5424 & 2587\\\\\n",
       "\tAACTGGTCAAGGCTCC & SeuratProject & 2237 & 1246\\\\\n",
       "\tAACTGGTTCAACGGCC & SeuratProject & 3277 & 1487\\\\\n",
       "\tAACTTTCCACCACGTG & SeuratProject & 3452 & 1968\\\\\n",
       "\t⋮ & ⋮ & ⋮ & ⋮\\\\\n",
       "\t56\\_TTGGAACTCGATCCCT & SeuratProject & 1411 &  874\\\\\n",
       "\t56\\_TTGGAACTCTAACGGT & SeuratProject &  729 &  470\\\\\n",
       "\t56\\_TTGGCAAAGTGAATTG & SeuratProject & 2129 & 1017\\\\\n",
       "\t56\\_TTGGCAAGTAGGGACT & SeuratProject & 1677 &  896\\\\\n",
       "\t56\\_TTGGCAATCGTAGGTT & SeuratProject & 1852 &  957\\\\\n",
       "\t56\\_TTGGCAATCGTCCGTT & SeuratProject & 1234 &  657\\\\\n",
       "\t56\\_TTGTAGGGTCAATACC & SeuratProject & 1939 & 1225\\\\\n",
       "\t56\\_TTGTAGGGTTTCCACC & SeuratProject & 1396 &  857\\\\\n",
       "\t56\\_TTTACTGAGCAGACTG & SeuratProject &  792 &  474\\\\\n",
       "\t56\\_TTTACTGAGTAGATGT & SeuratProject & 5597 & 2202\\\\\n",
       "\t56\\_TTTACTGCAAGCCATT & SeuratProject &  641 &  460\\\\\n",
       "\t56\\_TTTATGCAGATGCCTT & SeuratProject & 1445 &  667\\\\\n",
       "\t56\\_TTTATGCAGGGCACTA & SeuratProject & 4060 & 2002\\\\\n",
       "\t56\\_TTTATGCGTGCTCTTC & SeuratProject & 1832 &  918\\\\\n",
       "\t56\\_TTTATGCTCACTTCAT & SeuratProject & 1976 & 1236\\\\\n",
       "\t56\\_TTTATGCTCGATGAGG & SeuratProject &  960 &  575\\\\\n",
       "\t56\\_TTTATGCTCTGCTTGC & SeuratProject &  707 &  462\\\\\n",
       "\t56\\_TTTCCTCAGAACAATC & SeuratProject &  651 &  399\\\\\n",
       "\t56\\_TTTCCTCCAGGGATTG & SeuratProject & 3255 & 1325\\\\\n",
       "\t56\\_TTTCCTCGTAGTGAAT & SeuratProject & 1115 &  627\\\\\n",
       "\t56\\_TTTGCGCAGCACAGGT & SeuratProject &  874 &  628\\\\\n",
       "\t56\\_TTTGCGCCAACCGCCA & SeuratProject &  737 &  420\\\\\n",
       "\t56\\_TTTGCGCGTGTCCTCT & SeuratProject & 1859 &  971\\\\\n",
       "\t56\\_TTTGCGCGTTGAACTC & SeuratProject & 1273 &  710\\\\\n",
       "\t56\\_TTTGCGCTCTAACTTC & SeuratProject & 1845 &  977\\\\\n",
       "\t56\\_TTTGCGCTCTCTAGGA & SeuratProject & 1251 &  696\\\\\n",
       "\t56\\_TTTGGTTGTCCAACTA & SeuratProject & 1304 &  707\\\\\n",
       "\t56\\_TTTGTCAAGACTCGGA & SeuratProject & 2074 & 1314\\\\\n",
       "\t56\\_TTTGTCAAGGCCGAAT & SeuratProject &  647 &  435\\\\\n",
       "\t56\\_TTTGTCACATCATCCC & SeuratProject & 1524 &  930\\\\\n",
       "\\end{tabular}\n"
      ],
      "text/markdown": [
       "\n",
       "A data.frame: 105329 × 3\n",
       "\n",
       "| <!--/--> | orig.ident &lt;fct&gt; | nCount_RNA &lt;dbl&gt; | nFeature_RNA &lt;int&gt; |\n",
       "|---|---|---|---|\n",
       "| AAACCTGGTCAGTGGA | SeuratProject | 1142 |  815 |\n",
       "| AAACCTGGTGTCAATC | SeuratProject | 6983 | 3120 |\n",
       "| AAACCTGTCAAACCAC | SeuratProject | 1752 | 1208 |\n",
       "| AAACCTGTCGTTACAG | SeuratProject | 4148 | 2137 |\n",
       "| AAACGGGCACGAGAGT | SeuratProject | 1184 |  703 |\n",
       "| AAAGATGAGCGTAGTG | SeuratProject | 4618 | 2247 |\n",
       "| AAAGCAAGTGTTCGAT | SeuratProject | 4262 | 2169 |\n",
       "| AAAGTAGAGACAGGCT | SeuratProject | 2509 | 1214 |\n",
       "| AAAGTAGAGGAGTACC | SeuratProject | 7673 | 2856 |\n",
       "| AAAGTAGTCATGCTCC | SeuratProject | 2203 |  885 |\n",
       "| AACACGTTCTCATTCA | SeuratProject | 1503 |  934 |\n",
       "| AACCATGAGGCCCGTT | SeuratProject | 1318 |  746 |\n",
       "| AACCATGCAGCTGGCT | SeuratProject | 3010 | 1413 |\n",
       "| AACCATGCATTAGCCA | SeuratProject | 1016 |  635 |\n",
       "| AACCGCGAGTGGACGT | SeuratProject | 1497 |  890 |\n",
       "| AACCGCGCAATCTACG | SeuratProject | 3201 | 1488 |\n",
       "| AACCGCGCATGCCTAA | SeuratProject | 3523 | 1536 |\n",
       "| AACCGCGTCGCACTCT | SeuratProject | 2335 | 1404 |\n",
       "| AACGTTGCAAGCCGCT | SeuratProject | 2426 | 1287 |\n",
       "| AACGTTGCATTCCTCG | SeuratProject | 5184 | 2512 |\n",
       "| AACTCAGCAGGATCGA | SeuratProject | 4288 | 1701 |\n",
       "| AACTCAGGTGCCTGGT | SeuratProject | 2148 | 1066 |\n",
       "| AACTCAGGTGTGTGCC | SeuratProject | 3110 | 1488 |\n",
       "| AACTCCCGTGAGGCTA | SeuratProject | 2656 | 1530 |\n",
       "| AACTCTTTCAAAGTAG | SeuratProject | 4163 | 2100 |\n",
       "| AACTCTTTCGATAGAA | SeuratProject | 4620 | 1914 |\n",
       "| AACTCTTTCTTAGCCC | SeuratProject | 5424 | 2587 |\n",
       "| AACTGGTCAAGGCTCC | SeuratProject | 2237 | 1246 |\n",
       "| AACTGGTTCAACGGCC | SeuratProject | 3277 | 1487 |\n",
       "| AACTTTCCACCACGTG | SeuratProject | 3452 | 1968 |\n",
       "| ⋮ | ⋮ | ⋮ | ⋮ |\n",
       "| 56_TTGGAACTCGATCCCT | SeuratProject | 1411 |  874 |\n",
       "| 56_TTGGAACTCTAACGGT | SeuratProject |  729 |  470 |\n",
       "| 56_TTGGCAAAGTGAATTG | SeuratProject | 2129 | 1017 |\n",
       "| 56_TTGGCAAGTAGGGACT | SeuratProject | 1677 |  896 |\n",
       "| 56_TTGGCAATCGTAGGTT | SeuratProject | 1852 |  957 |\n",
       "| 56_TTGGCAATCGTCCGTT | SeuratProject | 1234 |  657 |\n",
       "| 56_TTGTAGGGTCAATACC | SeuratProject | 1939 | 1225 |\n",
       "| 56_TTGTAGGGTTTCCACC | SeuratProject | 1396 |  857 |\n",
       "| 56_TTTACTGAGCAGACTG | SeuratProject |  792 |  474 |\n",
       "| 56_TTTACTGAGTAGATGT | SeuratProject | 5597 | 2202 |\n",
       "| 56_TTTACTGCAAGCCATT | SeuratProject |  641 |  460 |\n",
       "| 56_TTTATGCAGATGCCTT | SeuratProject | 1445 |  667 |\n",
       "| 56_TTTATGCAGGGCACTA | SeuratProject | 4060 | 2002 |\n",
       "| 56_TTTATGCGTGCTCTTC | SeuratProject | 1832 |  918 |\n",
       "| 56_TTTATGCTCACTTCAT | SeuratProject | 1976 | 1236 |\n",
       "| 56_TTTATGCTCGATGAGG | SeuratProject |  960 |  575 |\n",
       "| 56_TTTATGCTCTGCTTGC | SeuratProject |  707 |  462 |\n",
       "| 56_TTTCCTCAGAACAATC | SeuratProject |  651 |  399 |\n",
       "| 56_TTTCCTCCAGGGATTG | SeuratProject | 3255 | 1325 |\n",
       "| 56_TTTCCTCGTAGTGAAT | SeuratProject | 1115 |  627 |\n",
       "| 56_TTTGCGCAGCACAGGT | SeuratProject |  874 |  628 |\n",
       "| 56_TTTGCGCCAACCGCCA | SeuratProject |  737 |  420 |\n",
       "| 56_TTTGCGCGTGTCCTCT | SeuratProject | 1859 |  971 |\n",
       "| 56_TTTGCGCGTTGAACTC | SeuratProject | 1273 |  710 |\n",
       "| 56_TTTGCGCTCTAACTTC | SeuratProject | 1845 |  977 |\n",
       "| 56_TTTGCGCTCTCTAGGA | SeuratProject | 1251 |  696 |\n",
       "| 56_TTTGGTTGTCCAACTA | SeuratProject | 1304 |  707 |\n",
       "| 56_TTTGTCAAGACTCGGA | SeuratProject | 2074 | 1314 |\n",
       "| 56_TTTGTCAAGGCCGAAT | SeuratProject |  647 |  435 |\n",
       "| 56_TTTGTCACATCATCCC | SeuratProject | 1524 |  930 |\n",
       "\n"
      ],
      "text/plain": [
       "                    orig.ident    nCount_RNA nFeature_RNA\n",
       "AAACCTGGTCAGTGGA    SeuratProject 1142        815        \n",
       "AAACCTGGTGTCAATC    SeuratProject 6983       3120        \n",
       "AAACCTGTCAAACCAC    SeuratProject 1752       1208        \n",
       "AAACCTGTCGTTACAG    SeuratProject 4148       2137        \n",
       "AAACGGGCACGAGAGT    SeuratProject 1184        703        \n",
       "AAAGATGAGCGTAGTG    SeuratProject 4618       2247        \n",
       "AAAGCAAGTGTTCGAT    SeuratProject 4262       2169        \n",
       "AAAGTAGAGACAGGCT    SeuratProject 2509       1214        \n",
       "AAAGTAGAGGAGTACC    SeuratProject 7673       2856        \n",
       "AAAGTAGTCATGCTCC    SeuratProject 2203        885        \n",
       "AACACGTTCTCATTCA    SeuratProject 1503        934        \n",
       "AACCATGAGGCCCGTT    SeuratProject 1318        746        \n",
       "AACCATGCAGCTGGCT    SeuratProject 3010       1413        \n",
       "AACCATGCATTAGCCA    SeuratProject 1016        635        \n",
       "AACCGCGAGTGGACGT    SeuratProject 1497        890        \n",
       "AACCGCGCAATCTACG    SeuratProject 3201       1488        \n",
       "AACCGCGCATGCCTAA    SeuratProject 3523       1536        \n",
       "AACCGCGTCGCACTCT    SeuratProject 2335       1404        \n",
       "AACGTTGCAAGCCGCT    SeuratProject 2426       1287        \n",
       "AACGTTGCATTCCTCG    SeuratProject 5184       2512        \n",
       "AACTCAGCAGGATCGA    SeuratProject 4288       1701        \n",
       "AACTCAGGTGCCTGGT    SeuratProject 2148       1066        \n",
       "AACTCAGGTGTGTGCC    SeuratProject 3110       1488        \n",
       "AACTCCCGTGAGGCTA    SeuratProject 2656       1530        \n",
       "AACTCTTTCAAAGTAG    SeuratProject 4163       2100        \n",
       "AACTCTTTCGATAGAA    SeuratProject 4620       1914        \n",
       "AACTCTTTCTTAGCCC    SeuratProject 5424       2587        \n",
       "AACTGGTCAAGGCTCC    SeuratProject 2237       1246        \n",
       "AACTGGTTCAACGGCC    SeuratProject 3277       1487        \n",
       "AACTTTCCACCACGTG    SeuratProject 3452       1968        \n",
       "⋮                   ⋮             ⋮          ⋮           \n",
       "56_TTGGAACTCGATCCCT SeuratProject 1411        874        \n",
       "56_TTGGAACTCTAACGGT SeuratProject  729        470        \n",
       "56_TTGGCAAAGTGAATTG SeuratProject 2129       1017        \n",
       "56_TTGGCAAGTAGGGACT SeuratProject 1677        896        \n",
       "56_TTGGCAATCGTAGGTT SeuratProject 1852        957        \n",
       "56_TTGGCAATCGTCCGTT SeuratProject 1234        657        \n",
       "56_TTGTAGGGTCAATACC SeuratProject 1939       1225        \n",
       "56_TTGTAGGGTTTCCACC SeuratProject 1396        857        \n",
       "56_TTTACTGAGCAGACTG SeuratProject  792        474        \n",
       "56_TTTACTGAGTAGATGT SeuratProject 5597       2202        \n",
       "56_TTTACTGCAAGCCATT SeuratProject  641        460        \n",
       "56_TTTATGCAGATGCCTT SeuratProject 1445        667        \n",
       "56_TTTATGCAGGGCACTA SeuratProject 4060       2002        \n",
       "56_TTTATGCGTGCTCTTC SeuratProject 1832        918        \n",
       "56_TTTATGCTCACTTCAT SeuratProject 1976       1236        \n",
       "56_TTTATGCTCGATGAGG SeuratProject  960        575        \n",
       "56_TTTATGCTCTGCTTGC SeuratProject  707        462        \n",
       "56_TTTCCTCAGAACAATC SeuratProject  651        399        \n",
       "56_TTTCCTCCAGGGATTG SeuratProject 3255       1325        \n",
       "56_TTTCCTCGTAGTGAAT SeuratProject 1115        627        \n",
       "56_TTTGCGCAGCACAGGT SeuratProject  874        628        \n",
       "56_TTTGCGCCAACCGCCA SeuratProject  737        420        \n",
       "56_TTTGCGCGTGTCCTCT SeuratProject 1859        971        \n",
       "56_TTTGCGCGTTGAACTC SeuratProject 1273        710        \n",
       "56_TTTGCGCTCTAACTTC SeuratProject 1845        977        \n",
       "56_TTTGCGCTCTCTAGGA SeuratProject 1251        696        \n",
       "56_TTTGGTTGTCCAACTA SeuratProject 1304        707        \n",
       "56_TTTGTCAAGACTCGGA SeuratProject 2074       1314        \n",
       "56_TTTGTCAAGGCCGAAT SeuratProject  647        435        \n",
       "56_TTTGTCACATCATCCC SeuratProject 1524        930        "
      ]
     },
     "metadata": {},
     "output_type": "display_data"
    }
   ],
   "source": [
    "# 1. QC -------\n",
    "View(seurat_mtx@meta.data)"
   ]
  },
  {
   "cell_type": "code",
   "execution_count": 6,
   "id": "22798458",
   "metadata": {},
   "outputs": [
    {
     "data": {
      "text/html": [
       "<table class=\"dataframe\">\n",
       "<caption>A data.frame: 105329 × 4</caption>\n",
       "<thead>\n",
       "\t<tr><th></th><th scope=col>orig.ident</th><th scope=col>nCount_RNA</th><th scope=col>nFeature_RNA</th><th scope=col>percent.mt</th></tr>\n",
       "\t<tr><th></th><th scope=col>&lt;fct&gt;</th><th scope=col>&lt;dbl&gt;</th><th scope=col>&lt;int&gt;</th><th scope=col>&lt;dbl&gt;</th></tr>\n",
       "</thead>\n",
       "<tbody>\n",
       "\t<tr><th scope=row>AAACCTGGTCAGTGGA</th><td>SeuratProject</td><td>1142</td><td> 815</td><td>0</td></tr>\n",
       "\t<tr><th scope=row>AAACCTGGTGTCAATC</th><td>SeuratProject</td><td>6983</td><td>3120</td><td>0</td></tr>\n",
       "\t<tr><th scope=row>AAACCTGTCAAACCAC</th><td>SeuratProject</td><td>1752</td><td>1208</td><td>0</td></tr>\n",
       "\t<tr><th scope=row>AAACCTGTCGTTACAG</th><td>SeuratProject</td><td>4148</td><td>2137</td><td>0</td></tr>\n",
       "\t<tr><th scope=row>AAACGGGCACGAGAGT</th><td>SeuratProject</td><td>1184</td><td> 703</td><td>0</td></tr>\n",
       "\t<tr><th scope=row>AAAGATGAGCGTAGTG</th><td>SeuratProject</td><td>4618</td><td>2247</td><td>0</td></tr>\n",
       "\t<tr><th scope=row>AAAGCAAGTGTTCGAT</th><td>SeuratProject</td><td>4262</td><td>2169</td><td>0</td></tr>\n",
       "\t<tr><th scope=row>AAAGTAGAGACAGGCT</th><td>SeuratProject</td><td>2509</td><td>1214</td><td>0</td></tr>\n",
       "\t<tr><th scope=row>AAAGTAGAGGAGTACC</th><td>SeuratProject</td><td>7673</td><td>2856</td><td>0</td></tr>\n",
       "\t<tr><th scope=row>AAAGTAGTCATGCTCC</th><td>SeuratProject</td><td>2203</td><td> 885</td><td>0</td></tr>\n",
       "\t<tr><th scope=row>AACACGTTCTCATTCA</th><td>SeuratProject</td><td>1503</td><td> 934</td><td>0</td></tr>\n",
       "\t<tr><th scope=row>AACCATGAGGCCCGTT</th><td>SeuratProject</td><td>1318</td><td> 746</td><td>0</td></tr>\n",
       "\t<tr><th scope=row>AACCATGCAGCTGGCT</th><td>SeuratProject</td><td>3010</td><td>1413</td><td>0</td></tr>\n",
       "\t<tr><th scope=row>AACCATGCATTAGCCA</th><td>SeuratProject</td><td>1016</td><td> 635</td><td>0</td></tr>\n",
       "\t<tr><th scope=row>AACCGCGAGTGGACGT</th><td>SeuratProject</td><td>1497</td><td> 890</td><td>0</td></tr>\n",
       "\t<tr><th scope=row>AACCGCGCAATCTACG</th><td>SeuratProject</td><td>3201</td><td>1488</td><td>0</td></tr>\n",
       "\t<tr><th scope=row>AACCGCGCATGCCTAA</th><td>SeuratProject</td><td>3523</td><td>1536</td><td>0</td></tr>\n",
       "\t<tr><th scope=row>AACCGCGTCGCACTCT</th><td>SeuratProject</td><td>2335</td><td>1404</td><td>0</td></tr>\n",
       "\t<tr><th scope=row>AACGTTGCAAGCCGCT</th><td>SeuratProject</td><td>2426</td><td>1287</td><td>0</td></tr>\n",
       "\t<tr><th scope=row>AACGTTGCATTCCTCG</th><td>SeuratProject</td><td>5184</td><td>2512</td><td>0</td></tr>\n",
       "\t<tr><th scope=row>AACTCAGCAGGATCGA</th><td>SeuratProject</td><td>4288</td><td>1701</td><td>0</td></tr>\n",
       "\t<tr><th scope=row>AACTCAGGTGCCTGGT</th><td>SeuratProject</td><td>2148</td><td>1066</td><td>0</td></tr>\n",
       "\t<tr><th scope=row>AACTCAGGTGTGTGCC</th><td>SeuratProject</td><td>3110</td><td>1488</td><td>0</td></tr>\n",
       "\t<tr><th scope=row>AACTCCCGTGAGGCTA</th><td>SeuratProject</td><td>2656</td><td>1530</td><td>0</td></tr>\n",
       "\t<tr><th scope=row>AACTCTTTCAAAGTAG</th><td>SeuratProject</td><td>4163</td><td>2100</td><td>0</td></tr>\n",
       "\t<tr><th scope=row>AACTCTTTCGATAGAA</th><td>SeuratProject</td><td>4620</td><td>1914</td><td>0</td></tr>\n",
       "\t<tr><th scope=row>AACTCTTTCTTAGCCC</th><td>SeuratProject</td><td>5424</td><td>2587</td><td>0</td></tr>\n",
       "\t<tr><th scope=row>AACTGGTCAAGGCTCC</th><td>SeuratProject</td><td>2237</td><td>1246</td><td>0</td></tr>\n",
       "\t<tr><th scope=row>AACTGGTTCAACGGCC</th><td>SeuratProject</td><td>3277</td><td>1487</td><td>0</td></tr>\n",
       "\t<tr><th scope=row>AACTTTCCACCACGTG</th><td>SeuratProject</td><td>3452</td><td>1968</td><td>0</td></tr>\n",
       "\t<tr><th scope=row>⋮</th><td>⋮</td><td>⋮</td><td>⋮</td><td>⋮</td></tr>\n",
       "\t<tr><th scope=row>56_TTGGAACTCGATCCCT</th><td>SeuratProject</td><td>1411</td><td> 874</td><td>0</td></tr>\n",
       "\t<tr><th scope=row>56_TTGGAACTCTAACGGT</th><td>SeuratProject</td><td> 729</td><td> 470</td><td>0</td></tr>\n",
       "\t<tr><th scope=row>56_TTGGCAAAGTGAATTG</th><td>SeuratProject</td><td>2129</td><td>1017</td><td>0</td></tr>\n",
       "\t<tr><th scope=row>56_TTGGCAAGTAGGGACT</th><td>SeuratProject</td><td>1677</td><td> 896</td><td>0</td></tr>\n",
       "\t<tr><th scope=row>56_TTGGCAATCGTAGGTT</th><td>SeuratProject</td><td>1852</td><td> 957</td><td>0</td></tr>\n",
       "\t<tr><th scope=row>56_TTGGCAATCGTCCGTT</th><td>SeuratProject</td><td>1234</td><td> 657</td><td>0</td></tr>\n",
       "\t<tr><th scope=row>56_TTGTAGGGTCAATACC</th><td>SeuratProject</td><td>1939</td><td>1225</td><td>0</td></tr>\n",
       "\t<tr><th scope=row>56_TTGTAGGGTTTCCACC</th><td>SeuratProject</td><td>1396</td><td> 857</td><td>0</td></tr>\n",
       "\t<tr><th scope=row>56_TTTACTGAGCAGACTG</th><td>SeuratProject</td><td> 792</td><td> 474</td><td>0</td></tr>\n",
       "\t<tr><th scope=row>56_TTTACTGAGTAGATGT</th><td>SeuratProject</td><td>5597</td><td>2202</td><td>0</td></tr>\n",
       "\t<tr><th scope=row>56_TTTACTGCAAGCCATT</th><td>SeuratProject</td><td> 641</td><td> 460</td><td>0</td></tr>\n",
       "\t<tr><th scope=row>56_TTTATGCAGATGCCTT</th><td>SeuratProject</td><td>1445</td><td> 667</td><td>0</td></tr>\n",
       "\t<tr><th scope=row>56_TTTATGCAGGGCACTA</th><td>SeuratProject</td><td>4060</td><td>2002</td><td>0</td></tr>\n",
       "\t<tr><th scope=row>56_TTTATGCGTGCTCTTC</th><td>SeuratProject</td><td>1832</td><td> 918</td><td>0</td></tr>\n",
       "\t<tr><th scope=row>56_TTTATGCTCACTTCAT</th><td>SeuratProject</td><td>1976</td><td>1236</td><td>0</td></tr>\n",
       "\t<tr><th scope=row>56_TTTATGCTCGATGAGG</th><td>SeuratProject</td><td> 960</td><td> 575</td><td>0</td></tr>\n",
       "\t<tr><th scope=row>56_TTTATGCTCTGCTTGC</th><td>SeuratProject</td><td> 707</td><td> 462</td><td>0</td></tr>\n",
       "\t<tr><th scope=row>56_TTTCCTCAGAACAATC</th><td>SeuratProject</td><td> 651</td><td> 399</td><td>0</td></tr>\n",
       "\t<tr><th scope=row>56_TTTCCTCCAGGGATTG</th><td>SeuratProject</td><td>3255</td><td>1325</td><td>0</td></tr>\n",
       "\t<tr><th scope=row>56_TTTCCTCGTAGTGAAT</th><td>SeuratProject</td><td>1115</td><td> 627</td><td>0</td></tr>\n",
       "\t<tr><th scope=row>56_TTTGCGCAGCACAGGT</th><td>SeuratProject</td><td> 874</td><td> 628</td><td>0</td></tr>\n",
       "\t<tr><th scope=row>56_TTTGCGCCAACCGCCA</th><td>SeuratProject</td><td> 737</td><td> 420</td><td>0</td></tr>\n",
       "\t<tr><th scope=row>56_TTTGCGCGTGTCCTCT</th><td>SeuratProject</td><td>1859</td><td> 971</td><td>0</td></tr>\n",
       "\t<tr><th scope=row>56_TTTGCGCGTTGAACTC</th><td>SeuratProject</td><td>1273</td><td> 710</td><td>0</td></tr>\n",
       "\t<tr><th scope=row>56_TTTGCGCTCTAACTTC</th><td>SeuratProject</td><td>1845</td><td> 977</td><td>0</td></tr>\n",
       "\t<tr><th scope=row>56_TTTGCGCTCTCTAGGA</th><td>SeuratProject</td><td>1251</td><td> 696</td><td>0</td></tr>\n",
       "\t<tr><th scope=row>56_TTTGGTTGTCCAACTA</th><td>SeuratProject</td><td>1304</td><td> 707</td><td>0</td></tr>\n",
       "\t<tr><th scope=row>56_TTTGTCAAGACTCGGA</th><td>SeuratProject</td><td>2074</td><td>1314</td><td>0</td></tr>\n",
       "\t<tr><th scope=row>56_TTTGTCAAGGCCGAAT</th><td>SeuratProject</td><td> 647</td><td> 435</td><td>0</td></tr>\n",
       "\t<tr><th scope=row>56_TTTGTCACATCATCCC</th><td>SeuratProject</td><td>1524</td><td> 930</td><td>0</td></tr>\n",
       "</tbody>\n",
       "</table>\n"
      ],
      "text/latex": [
       "A data.frame: 105329 × 4\n",
       "\\begin{tabular}{r|llll}\n",
       "  & orig.ident & nCount\\_RNA & nFeature\\_RNA & percent.mt\\\\\n",
       "  & <fct> & <dbl> & <int> & <dbl>\\\\\n",
       "\\hline\n",
       "\tAAACCTGGTCAGTGGA & SeuratProject & 1142 &  815 & 0\\\\\n",
       "\tAAACCTGGTGTCAATC & SeuratProject & 6983 & 3120 & 0\\\\\n",
       "\tAAACCTGTCAAACCAC & SeuratProject & 1752 & 1208 & 0\\\\\n",
       "\tAAACCTGTCGTTACAG & SeuratProject & 4148 & 2137 & 0\\\\\n",
       "\tAAACGGGCACGAGAGT & SeuratProject & 1184 &  703 & 0\\\\\n",
       "\tAAAGATGAGCGTAGTG & SeuratProject & 4618 & 2247 & 0\\\\\n",
       "\tAAAGCAAGTGTTCGAT & SeuratProject & 4262 & 2169 & 0\\\\\n",
       "\tAAAGTAGAGACAGGCT & SeuratProject & 2509 & 1214 & 0\\\\\n",
       "\tAAAGTAGAGGAGTACC & SeuratProject & 7673 & 2856 & 0\\\\\n",
       "\tAAAGTAGTCATGCTCC & SeuratProject & 2203 &  885 & 0\\\\\n",
       "\tAACACGTTCTCATTCA & SeuratProject & 1503 &  934 & 0\\\\\n",
       "\tAACCATGAGGCCCGTT & SeuratProject & 1318 &  746 & 0\\\\\n",
       "\tAACCATGCAGCTGGCT & SeuratProject & 3010 & 1413 & 0\\\\\n",
       "\tAACCATGCATTAGCCA & SeuratProject & 1016 &  635 & 0\\\\\n",
       "\tAACCGCGAGTGGACGT & SeuratProject & 1497 &  890 & 0\\\\\n",
       "\tAACCGCGCAATCTACG & SeuratProject & 3201 & 1488 & 0\\\\\n",
       "\tAACCGCGCATGCCTAA & SeuratProject & 3523 & 1536 & 0\\\\\n",
       "\tAACCGCGTCGCACTCT & SeuratProject & 2335 & 1404 & 0\\\\\n",
       "\tAACGTTGCAAGCCGCT & SeuratProject & 2426 & 1287 & 0\\\\\n",
       "\tAACGTTGCATTCCTCG & SeuratProject & 5184 & 2512 & 0\\\\\n",
       "\tAACTCAGCAGGATCGA & SeuratProject & 4288 & 1701 & 0\\\\\n",
       "\tAACTCAGGTGCCTGGT & SeuratProject & 2148 & 1066 & 0\\\\\n",
       "\tAACTCAGGTGTGTGCC & SeuratProject & 3110 & 1488 & 0\\\\\n",
       "\tAACTCCCGTGAGGCTA & SeuratProject & 2656 & 1530 & 0\\\\\n",
       "\tAACTCTTTCAAAGTAG & SeuratProject & 4163 & 2100 & 0\\\\\n",
       "\tAACTCTTTCGATAGAA & SeuratProject & 4620 & 1914 & 0\\\\\n",
       "\tAACTCTTTCTTAGCCC & SeuratProject & 5424 & 2587 & 0\\\\\n",
       "\tAACTGGTCAAGGCTCC & SeuratProject & 2237 & 1246 & 0\\\\\n",
       "\tAACTGGTTCAACGGCC & SeuratProject & 3277 & 1487 & 0\\\\\n",
       "\tAACTTTCCACCACGTG & SeuratProject & 3452 & 1968 & 0\\\\\n",
       "\t⋮ & ⋮ & ⋮ & ⋮ & ⋮\\\\\n",
       "\t56\\_TTGGAACTCGATCCCT & SeuratProject & 1411 &  874 & 0\\\\\n",
       "\t56\\_TTGGAACTCTAACGGT & SeuratProject &  729 &  470 & 0\\\\\n",
       "\t56\\_TTGGCAAAGTGAATTG & SeuratProject & 2129 & 1017 & 0\\\\\n",
       "\t56\\_TTGGCAAGTAGGGACT & SeuratProject & 1677 &  896 & 0\\\\\n",
       "\t56\\_TTGGCAATCGTAGGTT & SeuratProject & 1852 &  957 & 0\\\\\n",
       "\t56\\_TTGGCAATCGTCCGTT & SeuratProject & 1234 &  657 & 0\\\\\n",
       "\t56\\_TTGTAGGGTCAATACC & SeuratProject & 1939 & 1225 & 0\\\\\n",
       "\t56\\_TTGTAGGGTTTCCACC & SeuratProject & 1396 &  857 & 0\\\\\n",
       "\t56\\_TTTACTGAGCAGACTG & SeuratProject &  792 &  474 & 0\\\\\n",
       "\t56\\_TTTACTGAGTAGATGT & SeuratProject & 5597 & 2202 & 0\\\\\n",
       "\t56\\_TTTACTGCAAGCCATT & SeuratProject &  641 &  460 & 0\\\\\n",
       "\t56\\_TTTATGCAGATGCCTT & SeuratProject & 1445 &  667 & 0\\\\\n",
       "\t56\\_TTTATGCAGGGCACTA & SeuratProject & 4060 & 2002 & 0\\\\\n",
       "\t56\\_TTTATGCGTGCTCTTC & SeuratProject & 1832 &  918 & 0\\\\\n",
       "\t56\\_TTTATGCTCACTTCAT & SeuratProject & 1976 & 1236 & 0\\\\\n",
       "\t56\\_TTTATGCTCGATGAGG & SeuratProject &  960 &  575 & 0\\\\\n",
       "\t56\\_TTTATGCTCTGCTTGC & SeuratProject &  707 &  462 & 0\\\\\n",
       "\t56\\_TTTCCTCAGAACAATC & SeuratProject &  651 &  399 & 0\\\\\n",
       "\t56\\_TTTCCTCCAGGGATTG & SeuratProject & 3255 & 1325 & 0\\\\\n",
       "\t56\\_TTTCCTCGTAGTGAAT & SeuratProject & 1115 &  627 & 0\\\\\n",
       "\t56\\_TTTGCGCAGCACAGGT & SeuratProject &  874 &  628 & 0\\\\\n",
       "\t56\\_TTTGCGCCAACCGCCA & SeuratProject &  737 &  420 & 0\\\\\n",
       "\t56\\_TTTGCGCGTGTCCTCT & SeuratProject & 1859 &  971 & 0\\\\\n",
       "\t56\\_TTTGCGCGTTGAACTC & SeuratProject & 1273 &  710 & 0\\\\\n",
       "\t56\\_TTTGCGCTCTAACTTC & SeuratProject & 1845 &  977 & 0\\\\\n",
       "\t56\\_TTTGCGCTCTCTAGGA & SeuratProject & 1251 &  696 & 0\\\\\n",
       "\t56\\_TTTGGTTGTCCAACTA & SeuratProject & 1304 &  707 & 0\\\\\n",
       "\t56\\_TTTGTCAAGACTCGGA & SeuratProject & 2074 & 1314 & 0\\\\\n",
       "\t56\\_TTTGTCAAGGCCGAAT & SeuratProject &  647 &  435 & 0\\\\\n",
       "\t56\\_TTTGTCACATCATCCC & SeuratProject & 1524 &  930 & 0\\\\\n",
       "\\end{tabular}\n"
      ],
      "text/markdown": [
       "\n",
       "A data.frame: 105329 × 4\n",
       "\n",
       "| <!--/--> | orig.ident &lt;fct&gt; | nCount_RNA &lt;dbl&gt; | nFeature_RNA &lt;int&gt; | percent.mt &lt;dbl&gt; |\n",
       "|---|---|---|---|---|\n",
       "| AAACCTGGTCAGTGGA | SeuratProject | 1142 |  815 | 0 |\n",
       "| AAACCTGGTGTCAATC | SeuratProject | 6983 | 3120 | 0 |\n",
       "| AAACCTGTCAAACCAC | SeuratProject | 1752 | 1208 | 0 |\n",
       "| AAACCTGTCGTTACAG | SeuratProject | 4148 | 2137 | 0 |\n",
       "| AAACGGGCACGAGAGT | SeuratProject | 1184 |  703 | 0 |\n",
       "| AAAGATGAGCGTAGTG | SeuratProject | 4618 | 2247 | 0 |\n",
       "| AAAGCAAGTGTTCGAT | SeuratProject | 4262 | 2169 | 0 |\n",
       "| AAAGTAGAGACAGGCT | SeuratProject | 2509 | 1214 | 0 |\n",
       "| AAAGTAGAGGAGTACC | SeuratProject | 7673 | 2856 | 0 |\n",
       "| AAAGTAGTCATGCTCC | SeuratProject | 2203 |  885 | 0 |\n",
       "| AACACGTTCTCATTCA | SeuratProject | 1503 |  934 | 0 |\n",
       "| AACCATGAGGCCCGTT | SeuratProject | 1318 |  746 | 0 |\n",
       "| AACCATGCAGCTGGCT | SeuratProject | 3010 | 1413 | 0 |\n",
       "| AACCATGCATTAGCCA | SeuratProject | 1016 |  635 | 0 |\n",
       "| AACCGCGAGTGGACGT | SeuratProject | 1497 |  890 | 0 |\n",
       "| AACCGCGCAATCTACG | SeuratProject | 3201 | 1488 | 0 |\n",
       "| AACCGCGCATGCCTAA | SeuratProject | 3523 | 1536 | 0 |\n",
       "| AACCGCGTCGCACTCT | SeuratProject | 2335 | 1404 | 0 |\n",
       "| AACGTTGCAAGCCGCT | SeuratProject | 2426 | 1287 | 0 |\n",
       "| AACGTTGCATTCCTCG | SeuratProject | 5184 | 2512 | 0 |\n",
       "| AACTCAGCAGGATCGA | SeuratProject | 4288 | 1701 | 0 |\n",
       "| AACTCAGGTGCCTGGT | SeuratProject | 2148 | 1066 | 0 |\n",
       "| AACTCAGGTGTGTGCC | SeuratProject | 3110 | 1488 | 0 |\n",
       "| AACTCCCGTGAGGCTA | SeuratProject | 2656 | 1530 | 0 |\n",
       "| AACTCTTTCAAAGTAG | SeuratProject | 4163 | 2100 | 0 |\n",
       "| AACTCTTTCGATAGAA | SeuratProject | 4620 | 1914 | 0 |\n",
       "| AACTCTTTCTTAGCCC | SeuratProject | 5424 | 2587 | 0 |\n",
       "| AACTGGTCAAGGCTCC | SeuratProject | 2237 | 1246 | 0 |\n",
       "| AACTGGTTCAACGGCC | SeuratProject | 3277 | 1487 | 0 |\n",
       "| AACTTTCCACCACGTG | SeuratProject | 3452 | 1968 | 0 |\n",
       "| ⋮ | ⋮ | ⋮ | ⋮ | ⋮ |\n",
       "| 56_TTGGAACTCGATCCCT | SeuratProject | 1411 |  874 | 0 |\n",
       "| 56_TTGGAACTCTAACGGT | SeuratProject |  729 |  470 | 0 |\n",
       "| 56_TTGGCAAAGTGAATTG | SeuratProject | 2129 | 1017 | 0 |\n",
       "| 56_TTGGCAAGTAGGGACT | SeuratProject | 1677 |  896 | 0 |\n",
       "| 56_TTGGCAATCGTAGGTT | SeuratProject | 1852 |  957 | 0 |\n",
       "| 56_TTGGCAATCGTCCGTT | SeuratProject | 1234 |  657 | 0 |\n",
       "| 56_TTGTAGGGTCAATACC | SeuratProject | 1939 | 1225 | 0 |\n",
       "| 56_TTGTAGGGTTTCCACC | SeuratProject | 1396 |  857 | 0 |\n",
       "| 56_TTTACTGAGCAGACTG | SeuratProject |  792 |  474 | 0 |\n",
       "| 56_TTTACTGAGTAGATGT | SeuratProject | 5597 | 2202 | 0 |\n",
       "| 56_TTTACTGCAAGCCATT | SeuratProject |  641 |  460 | 0 |\n",
       "| 56_TTTATGCAGATGCCTT | SeuratProject | 1445 |  667 | 0 |\n",
       "| 56_TTTATGCAGGGCACTA | SeuratProject | 4060 | 2002 | 0 |\n",
       "| 56_TTTATGCGTGCTCTTC | SeuratProject | 1832 |  918 | 0 |\n",
       "| 56_TTTATGCTCACTTCAT | SeuratProject | 1976 | 1236 | 0 |\n",
       "| 56_TTTATGCTCGATGAGG | SeuratProject |  960 |  575 | 0 |\n",
       "| 56_TTTATGCTCTGCTTGC | SeuratProject |  707 |  462 | 0 |\n",
       "| 56_TTTCCTCAGAACAATC | SeuratProject |  651 |  399 | 0 |\n",
       "| 56_TTTCCTCCAGGGATTG | SeuratProject | 3255 | 1325 | 0 |\n",
       "| 56_TTTCCTCGTAGTGAAT | SeuratProject | 1115 |  627 | 0 |\n",
       "| 56_TTTGCGCAGCACAGGT | SeuratProject |  874 |  628 | 0 |\n",
       "| 56_TTTGCGCCAACCGCCA | SeuratProject |  737 |  420 | 0 |\n",
       "| 56_TTTGCGCGTGTCCTCT | SeuratProject | 1859 |  971 | 0 |\n",
       "| 56_TTTGCGCGTTGAACTC | SeuratProject | 1273 |  710 | 0 |\n",
       "| 56_TTTGCGCTCTAACTTC | SeuratProject | 1845 |  977 | 0 |\n",
       "| 56_TTTGCGCTCTCTAGGA | SeuratProject | 1251 |  696 | 0 |\n",
       "| 56_TTTGGTTGTCCAACTA | SeuratProject | 1304 |  707 | 0 |\n",
       "| 56_TTTGTCAAGACTCGGA | SeuratProject | 2074 | 1314 | 0 |\n",
       "| 56_TTTGTCAAGGCCGAAT | SeuratProject |  647 |  435 | 0 |\n",
       "| 56_TTTGTCACATCATCCC | SeuratProject | 1524 |  930 | 0 |\n",
       "\n"
      ],
      "text/plain": [
       "                    orig.ident    nCount_RNA nFeature_RNA percent.mt\n",
       "AAACCTGGTCAGTGGA    SeuratProject 1142        815         0         \n",
       "AAACCTGGTGTCAATC    SeuratProject 6983       3120         0         \n",
       "AAACCTGTCAAACCAC    SeuratProject 1752       1208         0         \n",
       "AAACCTGTCGTTACAG    SeuratProject 4148       2137         0         \n",
       "AAACGGGCACGAGAGT    SeuratProject 1184        703         0         \n",
       "AAAGATGAGCGTAGTG    SeuratProject 4618       2247         0         \n",
       "AAAGCAAGTGTTCGAT    SeuratProject 4262       2169         0         \n",
       "AAAGTAGAGACAGGCT    SeuratProject 2509       1214         0         \n",
       "AAAGTAGAGGAGTACC    SeuratProject 7673       2856         0         \n",
       "AAAGTAGTCATGCTCC    SeuratProject 2203        885         0         \n",
       "AACACGTTCTCATTCA    SeuratProject 1503        934         0         \n",
       "AACCATGAGGCCCGTT    SeuratProject 1318        746         0         \n",
       "AACCATGCAGCTGGCT    SeuratProject 3010       1413         0         \n",
       "AACCATGCATTAGCCA    SeuratProject 1016        635         0         \n",
       "AACCGCGAGTGGACGT    SeuratProject 1497        890         0         \n",
       "AACCGCGCAATCTACG    SeuratProject 3201       1488         0         \n",
       "AACCGCGCATGCCTAA    SeuratProject 3523       1536         0         \n",
       "AACCGCGTCGCACTCT    SeuratProject 2335       1404         0         \n",
       "AACGTTGCAAGCCGCT    SeuratProject 2426       1287         0         \n",
       "AACGTTGCATTCCTCG    SeuratProject 5184       2512         0         \n",
       "AACTCAGCAGGATCGA    SeuratProject 4288       1701         0         \n",
       "AACTCAGGTGCCTGGT    SeuratProject 2148       1066         0         \n",
       "AACTCAGGTGTGTGCC    SeuratProject 3110       1488         0         \n",
       "AACTCCCGTGAGGCTA    SeuratProject 2656       1530         0         \n",
       "AACTCTTTCAAAGTAG    SeuratProject 4163       2100         0         \n",
       "AACTCTTTCGATAGAA    SeuratProject 4620       1914         0         \n",
       "AACTCTTTCTTAGCCC    SeuratProject 5424       2587         0         \n",
       "AACTGGTCAAGGCTCC    SeuratProject 2237       1246         0         \n",
       "AACTGGTTCAACGGCC    SeuratProject 3277       1487         0         \n",
       "AACTTTCCACCACGTG    SeuratProject 3452       1968         0         \n",
       "⋮                   ⋮             ⋮          ⋮            ⋮         \n",
       "56_TTGGAACTCGATCCCT SeuratProject 1411        874         0         \n",
       "56_TTGGAACTCTAACGGT SeuratProject  729        470         0         \n",
       "56_TTGGCAAAGTGAATTG SeuratProject 2129       1017         0         \n",
       "56_TTGGCAAGTAGGGACT SeuratProject 1677        896         0         \n",
       "56_TTGGCAATCGTAGGTT SeuratProject 1852        957         0         \n",
       "56_TTGGCAATCGTCCGTT SeuratProject 1234        657         0         \n",
       "56_TTGTAGGGTCAATACC SeuratProject 1939       1225         0         \n",
       "56_TTGTAGGGTTTCCACC SeuratProject 1396        857         0         \n",
       "56_TTTACTGAGCAGACTG SeuratProject  792        474         0         \n",
       "56_TTTACTGAGTAGATGT SeuratProject 5597       2202         0         \n",
       "56_TTTACTGCAAGCCATT SeuratProject  641        460         0         \n",
       "56_TTTATGCAGATGCCTT SeuratProject 1445        667         0         \n",
       "56_TTTATGCAGGGCACTA SeuratProject 4060       2002         0         \n",
       "56_TTTATGCGTGCTCTTC SeuratProject 1832        918         0         \n",
       "56_TTTATGCTCACTTCAT SeuratProject 1976       1236         0         \n",
       "56_TTTATGCTCGATGAGG SeuratProject  960        575         0         \n",
       "56_TTTATGCTCTGCTTGC SeuratProject  707        462         0         \n",
       "56_TTTCCTCAGAACAATC SeuratProject  651        399         0         \n",
       "56_TTTCCTCCAGGGATTG SeuratProject 3255       1325         0         \n",
       "56_TTTCCTCGTAGTGAAT SeuratProject 1115        627         0         \n",
       "56_TTTGCGCAGCACAGGT SeuratProject  874        628         0         \n",
       "56_TTTGCGCCAACCGCCA SeuratProject  737        420         0         \n",
       "56_TTTGCGCGTGTCCTCT SeuratProject 1859        971         0         \n",
       "56_TTTGCGCGTTGAACTC SeuratProject 1273        710         0         \n",
       "56_TTTGCGCTCTAACTTC SeuratProject 1845        977         0         \n",
       "56_TTTGCGCTCTCTAGGA SeuratProject 1251        696         0         \n",
       "56_TTTGGTTGTCCAACTA SeuratProject 1304        707         0         \n",
       "56_TTTGTCAAGACTCGGA SeuratProject 2074       1314         0         \n",
       "56_TTTGTCAAGGCCGAAT SeuratProject  647        435         0         \n",
       "56_TTTGTCACATCATCCC SeuratProject 1524        930         0         "
      ]
     },
     "metadata": {},
     "output_type": "display_data"
    }
   ],
   "source": [
    "# % MT reads\n",
    "seurat_mtx[[\"percent.mt\"]] <- PercentageFeatureSet(seurat_mtx, pattern = \"^MT-\")\n",
    "View(seurat_mtx@meta.data)"
   ]
  },
  {
   "cell_type": "code",
   "execution_count": 7,
   "id": "67dfd3e1",
   "metadata": {},
   "outputs": [
    {
     "name": "stderr",
     "output_type": "stream",
     "text": [
      "Warning message in SingleExIPlot(type = type, data = data[, x, drop = FALSE], idents = idents, :\n",
      "\"All cells have the same value of percent.mt.\"\n",
      "Rasterizing points since number of points exceeds 100,000.\n",
      "To disable this behavior set `raster=FALSE`\n",
      "\n",
      "\u001b[1m\u001b[22m`geom_smooth()` using formula = 'y ~ x'\n"
     ]
    },
    {
     "data": {
      "image/png": "[encoded data removed]",
      "text/plain": [
       "plot without title"
      ]
     },
     "metadata": {
      "image/png": {
       "height": 420,
       "width": 420
      }
     },
     "output_type": "display_data"
    },
    {
     "data": {
      "image/png": "[encoded data removed]",
      "text/plain": [
       "plot without title"
      ]
     },
     "metadata": {
      "image/png": {
       "height": 420,
       "width": 420
      }
     },
     "output_type": "display_data"
    }
   ],
   "source": [
    "VlnPlot(seurat_mtx, features = c(\"nFeature_RNA\", \"nCount_RNA\", \"percent.mt\"), ncol = 3)\n",
    "FeatureScatter(seurat_mtx, feature1 = \"nCount_RNA\", feature2 = \"nFeature_RNA\") +\n",
    "  geom_smooth(method = 'lm')"
   ]
  },
  {
   "cell_type": "code",
   "execution_count": 8,
   "id": "74643b87",
   "metadata": {},
   "outputs": [],
   "source": [
    "# 2. Filtering -----------------\n",
    "seurat_mtx <- subset(seurat_mtx, subset = nFeature_RNA > 200 & nFeature_RNA < 2500 & \n",
    "                             percent.mt < 5)"
   ]
  },
  {
   "cell_type": "code",
   "execution_count": 9,
   "id": "01ba1fd3",
   "metadata": {},
   "outputs": [
    {
     "name": "stdout",
     "output_type": "stream",
     "text": [
      "Formal class 'Seurat' [package \"SeuratObject\"] with 13 slots\n",
      "  ..@ assays      :List of 1\n",
      "  .. ..$ RNA:Formal class 'Assay' [package \"SeuratObject\"] with 8 slots\n",
      "  .. .. .. ..@ counts       :Formal class 'dgCMatrix' [package \"Matrix\"] with 6 slots\n",
      "  .. .. .. .. .. ..@ i       : int [1:127126476] 7 22 53 110 122 273 276 323 344 369 ...\n",
      "  .. .. .. .. .. ..@ p       : int [1:98665] 0 815 2023 4160 4863 7110 9279 10493 11378 12312 ...\n",
      "  .. .. .. .. .. ..@ Dim     : int [1:2] 20864 98664\n",
      "  .. .. .. .. .. ..@ Dimnames:List of 2\n",
      "  .. .. .. .. .. .. ..$ : chr [1:20864] \"Xkr4\" \"Gm37381\" \"Rp1\" \"Sox17\" ...\n",
      "  .. .. .. .. .. .. ..$ : chr [1:98664] \"AAACCTGGTCAGTGGA\" \"AAACCTGTCAAACCAC\" \"AAACCTGTCGTTACAG\" \"AAACGGGCACGAGAGT\" ...\n",
      "  .. .. .. .. .. ..@ x       : num [1:127126476] 1 1 1 1 1 1 1 1 1 1 ...\n",
      "  .. .. .. .. .. ..@ factors : list()\n",
      "  .. .. .. ..@ data         :Formal class 'dgCMatrix' [package \"Matrix\"] with 6 slots\n",
      "  .. .. .. .. .. ..@ i       : int [1:127126476] 7 22 53 110 122 273 276 323 344 369 ...\n",
      "  .. .. .. .. .. ..@ p       : int [1:98665] 0 815 2023 4160 4863 7110 9279 10493 11378 12312 ...\n",
      "  .. .. .. .. .. ..@ Dim     : int [1:2] 20864 98664\n",
      "  .. .. .. .. .. ..@ Dimnames:List of 2\n",
      "  .. .. .. .. .. .. ..$ : chr [1:20864] \"Xkr4\" \"Gm37381\" \"Rp1\" \"Sox17\" ...\n",
      "  .. .. .. .. .. .. ..$ : chr [1:98664] \"AAACCTGGTCAGTGGA\" \"AAACCTGTCAAACCAC\" \"AAACCTGTCGTTACAG\" \"AAACGGGCACGAGAGT\" ...\n",
      "  .. .. .. .. .. ..@ x       : num [1:127126476] 2.28 2.28 2.28 2.28 2.28 ...\n",
      "  .. .. .. .. .. ..@ factors : list()\n",
      "  .. .. .. ..@ scale.data   : num[0 , 0 ] \n",
      "  .. .. .. ..@ key          : chr \"rna_\"\n",
      "  .. .. .. ..@ assay.orig   : NULL\n",
      "  .. .. .. ..@ var.features : chr(0) \n",
      "  .. .. .. ..@ meta.features:'data.frame':\t20864 obs. of  0 variables\n",
      "  .. .. .. ..@ misc         : list()\n",
      "  ..@ meta.data   :'data.frame':\t98664 obs. of  4 variables:\n",
      "  .. ..$ orig.ident  : Factor w/ 1 level \"SeuratProject\": 1 1 1 1 1 1 1 1 1 1 ...\n",
      "  .. ..$ nCount_RNA  : num [1:98664] 1142 1752 4148 1184 4618 ...\n",
      "  .. ..$ nFeature_RNA: int [1:98664] 815 1208 2137 703 2247 2169 1214 885 934 746 ...\n",
      "  .. ..$ percent.mt  : num [1:98664] 0 0 0 0 0 0 0 0 0 0 ...\n",
      "  ..@ active.assay: chr \"RNA\"\n",
      "  ..@ active.ident: Factor w/ 1 level \"SeuratProject\": 1 1 1 1 1 1 1 1 1 1 ...\n",
      "  .. ..- attr(*, \"names\")= chr [1:98664] \"AAACCTGGTCAGTGGA\" \"AAACCTGTCAAACCAC\" \"AAACCTGTCGTTACAG\" \"AAACGGGCACGAGAGT\" ...\n",
      "  ..@ graphs      : list()\n",
      "  ..@ neighbors   : list()\n",
      "  ..@ reductions  : list()\n",
      "  ..@ images      : list()\n",
      "  ..@ project.name: chr \"SeuratProject\"\n",
      "  ..@ misc        : list()\n",
      "  ..@ version     :Classes 'package_version', 'numeric_version'  hidden list of 1\n",
      "  .. ..$ : int [1:3] 4 1 3\n",
      "  ..@ commands    :List of 1\n",
      "  .. ..$ NormalizeData.RNA:Formal class 'SeuratCommand' [package \"SeuratObject\"] with 5 slots\n",
      "  .. .. .. ..@ name       : chr \"NormalizeData.RNA\"\n",
      "  .. .. .. ..@ time.stamp : POSIXct[1:1], format: \"2023-03-15 21:29:39\"\n",
      "  .. .. .. ..@ assay.used : chr \"RNA\"\n",
      "  .. .. .. ..@ call.string: chr \"NormalizeData(seurat_mtx)\"\n",
      "  .. .. .. ..@ params     :List of 5\n",
      "  .. .. .. .. ..$ assay               : chr \"RNA\"\n",
      "  .. .. .. .. ..$ normalization.method: chr \"LogNormalize\"\n",
      "  .. .. .. .. ..$ scale.factor        : num 10000\n",
      "  .. .. .. .. ..$ margin              : num 1\n",
      "  .. .. .. .. ..$ verbose             : logi TRUE\n",
      "  ..@ tools       : list()\n"
     ]
    }
   ],
   "source": [
    "# 3. Normalize data ----------\n",
    "#nsclc.seurat.obj <- NormalizeData(nsclc.seurat.obj, normalization.method = \"LogNormalize\", scale.factor = 10000)\n",
    "# OR\n",
    "seurat_mtx <- NormalizeData(seurat_mtx)\n",
    "str(seurat_mtx)"
   ]
  },
  {
   "cell_type": "code",
   "execution_count": 10,
   "id": "bfbcb555",
   "metadata": {},
   "outputs": [],
   "source": [
    "# 4. Identify highly variable features --------------\n",
    "seurat_mtx <- FindVariableFeatures(seurat_mtx, selection.method = \"vst\", nfeatures = 2000)"
   ]
  },
  {
   "cell_type": "code",
   "execution_count": 11,
   "id": "0e491896",
   "metadata": {},
   "outputs": [],
   "source": [
    "# Identify the 10 most highly variable genes\n",
    "top10 <- head(VariableFeatures(seurat_mtx), 10)"
   ]
  },
  {
   "cell_type": "code",
   "execution_count": 12,
   "id": "1e81d8e4",
   "metadata": {},
   "outputs": [
    {
     "name": "stderr",
     "output_type": "stream",
     "text": [
      "When using repel, set xnudge and ynudge to 0 for optimal results\n",
      "\n",
      "Warning message:\n",
      "\"\u001b[1m\u001b[22mTransformation introduced infinite values in continuous x-axis\"\n"
     ]
    },
    {
     "data": {
      "image/png": "[encoded data removed]",
      "text/plain": [
       "plot without title"
      ]
     },
     "metadata": {
      "image/png": {
       "height": 420,
       "width": 420
      }
     },
     "output_type": "display_data"
    }
   ],
   "source": [
    "# plot variable features with and without labels\n",
    "plot1 <- VariableFeaturePlot(seurat_mtx)\n",
    "LabelPoints(plot = plot1, points = top10, repel = TRUE)"
   ]
  },
  {
   "cell_type": "code",
   "execution_count": 22,
   "id": "bb83e9da",
   "metadata": {},
   "outputs": [
    {
     "name": "stderr",
     "output_type": "stream",
     "text": [
      "When using repel, set xnudge and ynudge to 0 for optimal results\n",
      "\n",
      "Warning message:\n",
      "\"\u001b[1m\u001b[22mTransformation introduced infinite values in continuous x-axis\"\n"
     ]
    },
    {
     "data": {
      "image/png": "[encoded data removed]",
      "text/plain": [
       "plot without title"
      ]
     },
     "metadata": {
      "image/png": {
       "height": 420,
       "width": 420
      }
     },
     "output_type": "display_data"
    }
   ],
   "source": [
    "# plot variable features with and without labels\n",
    "plot1 <- VariableFeaturePlot(seurat_mtx)\n",
    "plot1 <- LabelPoints(plot = plot1, points = top10, repel = TRUE)\n",
    "plot1"
   ]
  },
  {
   "cell_type": "code",
   "execution_count": 23,
   "id": "4bad8bf3",
   "metadata": {},
   "outputs": [
    {
     "name": "stderr",
     "output_type": "stream",
     "text": [
      "Warning message:\n",
      "\"\u001b[1m\u001b[22mTransformation introduced infinite values in continuous x-axis\"\n"
     ]
    },
    {
     "data": {
      "text/html": [
       "<strong>png:</strong> 2"
      ],
      "text/latex": [
       "\\textbf{png:} 2"
      ],
      "text/markdown": [
       "**png:** 2"
      ],
      "text/plain": [
       "png \n",
       "  2 "
      ]
     },
     "metadata": {},
     "output_type": "display_data"
    }
   ],
   "source": [
    "# Save as png\n",
    "png(\"plot.png\")\n",
    "plot1\n",
    "dev.off()"
   ]
  },
  {
   "cell_type": "code",
   "execution_count": null,
   "id": "0fc7d2c5",
   "metadata": {},
   "outputs": [],
   "source": [
    "# 5. Scaling -------------\n",
    "all.genes <- rownames(seurat_mtx)\n",
    "all.genes <- ScaleData(seurat_mtx, features = all.genes)\n",
    "\n",
    "str(seurat_mtx)"
   ]
  },
  {
   "cell_type": "code",
   "execution_count": null,
   "id": "8d0d9860",
   "metadata": {},
   "outputs": [],
   "source": [
    "# 6. Perform Linear dimensionality reduction --------------\n",
    "seurat_mtx <- RunPCA(seurat_mtx, features = VariableFeatures(object = seurat_mtx))"
   ]
  },
  {
   "cell_type": "code",
   "execution_count": null,
   "id": "75716472",
   "metadata": {},
   "outputs": [],
   "source": [
    "# visualize PCA results\n",
    "print(seurat_mtx[[\"pca\"]], dims = 1:5, nfeatures = 5)\n",
    "DimHeatmap(seurat_mtx, dims = 1, cells = 500, balanced = TRUE)"
   ]
  },
  {
   "cell_type": "code",
   "execution_count": null,
   "id": "e9ea4eca",
   "metadata": {},
   "outputs": [],
   "source": [
    "# determine dimensionality of the data\n",
    "ElbowPlot(seurat_mtx)"
   ]
  },
  {
   "cell_type": "code",
   "execution_count": null,
   "id": "852ec853",
   "metadata": {},
   "outputs": [],
   "source": [
    "# 7. Clustering ------------\n",
    "seurat_mtx <- FindNeighbors(seurat_mtx, dims = 1:15)"
   ]
  },
  {
   "cell_type": "code",
   "execution_count": null,
   "id": "d6a4c9fb",
   "metadata": {},
   "outputs": [],
   "source": [
    "# understanding resolution\n",
    "seurat_mtx <- FindClusters(seurat_mtx, resolution = c(0.1,0.3, 0.5, 0.7, 1))\n",
    "View(seurat_mtx@meta.data)\n",
    "\n",
    "DimPlot(seurat_mtx, group.by = \"RNA_snn_res.0.5\", label = TRUE)"
   ]
  },
  {
   "cell_type": "code",
   "execution_count": null,
   "id": "22f38fdc",
   "metadata": {},
   "outputs": [],
   "source": [
    "# setting identity of clusters\n",
    "Idents(seurat_mtx)\n",
    "Idents(seurat_mtx) <- \"RNA_snn_res.0.1\"\n",
    "Idents(seurat_mtx)"
   ]
  },
  {
   "cell_type": "code",
   "execution_count": null,
   "id": "7904db0b",
   "metadata": {},
   "outputs": [],
   "source": [
    "# non-linear dimensionality reduction --------------\n",
    "# If you haven't installed UMAP, you can do so via reticulate::py_install(packages =\n",
    "# 'umap-learn')\n",
    "seurat_mtx <- RunUMAP(seurat_mtx, dims = 1:15)\n",
    "# note that you can set `label = TRUE` or use the LabelClusters function to help label\n",
    "# individual clusters\n",
    "DimPlot(seurat_mtx, reduction = \"umap\")"
   ]
  }
 ],
 "metadata": {
  "kernelspec": {
   "display_name": "R",
   "language": "R",
   "name": "ir"
  },
  "language_info": {
   "codemirror_mode": "r",
   "file_extension": ".r",
   "mimetype": "text/x-r-source",
   "name": "R",
   "pygments_lexer": "r",
   "version": "4.2.2"
  }
 },
 "nbformat": 4,
 "nbformat_minor": 5
}
